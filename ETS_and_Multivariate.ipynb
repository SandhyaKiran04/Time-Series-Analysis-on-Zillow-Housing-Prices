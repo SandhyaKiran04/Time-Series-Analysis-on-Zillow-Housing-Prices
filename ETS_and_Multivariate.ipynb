{
  "cells": [
    {
      "cell_type": "code",
      "metadata": {
        "cell_id": "00000-d061b5ed-ec37-4ebf-afdf-8a5140d3069f",
        "deepnote_to_be_reexecuted": false,
        "source_hash": "2427bfd0",
        "execution_millis": 1437,
        "execution_start": 1615257681030,
        "deepnote_cell_type": "code"
      },
      "source": "import matplotlib.pyplot as plt\nimport numpy as np\nimport pandas as pd\nimport statsmodels.api as sm\nfrom statsmodels.graphics.tsaplots import plot_acf\nfrom statsmodels.graphics.tsaplots import plot_pacf\nfrom statsmodels.tsa.stattools import adfuller\nimport warnings\nwarnings.filterwarnings(\"ignore\")\nimport warnings\nfrom math import sqrt\nfrom statsmodels.tsa.holtwinters import ExponentialSmoothing",
      "execution_count": 1,
      "outputs": []
    },
    {
      "cell_type": "code",
      "metadata": {
        "cell_id": "00001-544c0877-aa2d-43ef-abe1-e7eab0840114",
        "deepnote_to_be_reexecuted": false,
        "source_hash": "adb6d6a9",
        "execution_millis": 1,
        "execution_start": 1615257682475,
        "deepnote_cell_type": "code"
      },
      "source": "#Some functions\ndef mean_absolute_percentage_error(y_true, y_pred): \n    y_true, y_pred = np.array(y_true), np.array(y_pred)\n    return np.mean(np.abs((y_true - y_pred) / y_true)) * 100\n\ndef rmse_cal(predictions, targets):\n    return np.sqrt(((predictions - targets) ** 2).mean())\n\ndef evaluate_es_model_mape(X,Trend, Seasonal,m,damped=True):\n    train_size = int(len(X) * 0.8)\n    train, test = X[0:train_size], X[train_size:]\n    history = [x for x in train]\n    predictions = list()\n    for t in range(len(test)):\n        model = ExponentialSmoothing(history, trend=Trend,seasonal=Seasonal,seasonal_periods=m, damped=damped)\n        res = model.fit()\n        yhat = res.forecast()[0] #predict one step\n        predictions.append(yhat) #store prediction\n        history.append(test[t]) #store observation\n        # calculate out of sample error\n    mape=(np.abs(np.array(test)-np.array(predictions))/np.array(test)).mean()\n    return mape",
      "execution_count": 2,
      "outputs": []
    },
    {
      "cell_type": "code",
      "metadata": {
        "cell_id": "00002-c1c751d5-dc4d-4c4a-ad1a-61b07f7cc8f8",
        "deepnote_to_be_reexecuted": false,
        "source_hash": "c93f7d66",
        "execution_millis": 29,
        "execution_start": 1615257682477,
        "deepnote_cell_type": "code"
      },
      "source": "zillow_test=pd.read_csv('/work/test.csv',parse_dates=['Month'])\nzillow_test=zillow_test.set_index('Month')\nzillow_test.head()",
      "execution_count": 3,
      "outputs": [
        {
          "output_type": "execute_result",
          "execution_count": 3,
          "data": {
            "application/vnd.deepnote.dataframe.v2+json": {
              "row_count": 5,
              "column_count": 1,
              "columns": [
                {
                  "name": "Median House Price",
                  "dtype": "int64",
                  "stats": {
                    "unique_count": 4,
                    "nan_count": 0,
                    "min": 466000,
                    "max": 501000,
                    "histogram": [
                      {
                        "bin_start": 466000,
                        "bin_end": 469500,
                        "count": 1
                      },
                      {
                        "bin_start": 469500,
                        "bin_end": 473000,
                        "count": 0
                      },
                      {
                        "bin_start": 473000,
                        "bin_end": 476500,
                        "count": 1
                      },
                      {
                        "bin_start": 476500,
                        "bin_end": 480000,
                        "count": 0
                      },
                      {
                        "bin_start": 480000,
                        "bin_end": 483500,
                        "count": 0
                      },
                      {
                        "bin_start": 483500,
                        "bin_end": 487000,
                        "count": 1
                      },
                      {
                        "bin_start": 487000,
                        "bin_end": 490500,
                        "count": 0
                      },
                      {
                        "bin_start": 490500,
                        "bin_end": 494000,
                        "count": 0
                      },
                      {
                        "bin_start": 494000,
                        "bin_end": 497500,
                        "count": 0
                      },
                      {
                        "bin_start": 497500,
                        "bin_end": 501000,
                        "count": 2
                      }
                    ]
                  }
                },
                {
                  "name": "_deepnote_index_column",
                  "dtype": "datetime64[ns]"
                }
              ],
              "rows_top": [
                {
                  "Median House Price": 476250,
                  "_deepnote_index_column": "2016-01-31T00:00:00.000000"
                },
                {
                  "Median House Price": 466000,
                  "_deepnote_index_column": "2016-02-29T00:00:00.000000"
                },
                {
                  "Median House Price": 485000,
                  "_deepnote_index_column": "2016-03-31T00:00:00.000000"
                },
                {
                  "Median House Price": 501000,
                  "_deepnote_index_column": "2016-04-30T00:00:00.000000"
                },
                {
                  "Median House Price": 501000,
                  "_deepnote_index_column": "2016-05-31T00:00:00.000000"
                }
              ],
              "rows_bottom": null
            },
            "text/plain": "            Median House Price\nMonth                         \n2016-01-31              476250\n2016-02-29              466000\n2016-03-31              485000\n2016-04-30              501000\n2016-05-31              501000",
            "text/html": "<div>\n<style scoped>\n    .dataframe tbody tr th:only-of-type {\n        vertical-align: middle;\n    }\n\n    .dataframe tbody tr th {\n        vertical-align: top;\n    }\n\n    .dataframe thead th {\n        text-align: right;\n    }\n</style>\n<table border=\"1\" class=\"dataframe\">\n  <thead>\n    <tr style=\"text-align: right;\">\n      <th></th>\n      <th>Median House Price</th>\n    </tr>\n    <tr>\n      <th>Month</th>\n      <th></th>\n    </tr>\n  </thead>\n  <tbody>\n    <tr>\n      <th>2016-01-31</th>\n      <td>476250</td>\n    </tr>\n    <tr>\n      <th>2016-02-29</th>\n      <td>466000</td>\n    </tr>\n    <tr>\n      <th>2016-03-31</th>\n      <td>485000</td>\n    </tr>\n    <tr>\n      <th>2016-04-30</th>\n      <td>501000</td>\n    </tr>\n    <tr>\n      <th>2016-05-31</th>\n      <td>501000</td>\n    </tr>\n  </tbody>\n</table>\n</div>"
          },
          "metadata": {}
        }
      ]
    },
    {
      "cell_type": "code",
      "metadata": {
        "cell_id": "00003-35b4a615-4b7e-4bf7-8835-624973b855cf",
        "deepnote_to_be_reexecuted": false,
        "source_hash": "5571d1ba",
        "execution_millis": 21,
        "execution_start": 1615257682505,
        "deepnote_cell_type": "code"
      },
      "source": "zillow=pd.read_csv('/work/zillow-carlifornia.csv',parse_dates=['Date'])\nzillow.head()",
      "execution_count": 4,
      "outputs": [
        {
          "output_type": "execute_result",
          "execution_count": 4,
          "data": {
            "application/vnd.deepnote.dataframe.v2+json": {
              "row_count": 5,
              "column_count": 4,
              "columns": [
                {
                  "name": "Date",
                  "dtype": "datetime64[ns]",
                  "stats": {
                    "unique_count": 5,
                    "nan_count": 0,
                    "min": "2008-02-29T00:00:00.000000",
                    "max": "2008-06-30T00:00:00.000000",
                    "histogram": [
                      {
                        "bin_start": 1204243200000000000,
                        "bin_end": 1205297280000000000,
                        "count": 1
                      },
                      {
                        "bin_start": 1205297280000000000,
                        "bin_end": 1206351360000000000,
                        "count": 0
                      },
                      {
                        "bin_start": 1206351360000000000,
                        "bin_end": 1207405440000000000,
                        "count": 1
                      },
                      {
                        "bin_start": 1207405440000000000,
                        "bin_end": 1208459520000000000,
                        "count": 0
                      },
                      {
                        "bin_start": 1208459520000000000,
                        "bin_end": 1209513600000000000,
                        "count": 0
                      },
                      {
                        "bin_start": 1209513600000000000,
                        "bin_end": 1210567680000000000,
                        "count": 1
                      },
                      {
                        "bin_start": 1210567680000000000,
                        "bin_end": 1211621760000000000,
                        "count": 0
                      },
                      {
                        "bin_start": 1211621760000000000,
                        "bin_end": 1212675840000000000,
                        "count": 1
                      },
                      {
                        "bin_start": 1212675840000000000,
                        "bin_end": 1213729920000000000,
                        "count": 0
                      },
                      {
                        "bin_start": 1213729920000000000,
                        "bin_end": 1214784000000000000,
                        "count": 1
                      }
                    ]
                  }
                },
                {
                  "name": "MedianSoldPrice_AllHomes.California",
                  "dtype": "float64",
                  "stats": {
                    "unique_count": 5,
                    "nan_count": 0,
                    "min": 429000,
                    "max": 470000,
                    "histogram": [
                      {
                        "bin_start": 429000,
                        "bin_end": 433100,
                        "count": 1
                      },
                      {
                        "bin_start": 433100,
                        "bin_end": 437200,
                        "count": 0
                      },
                      {
                        "bin_start": 437200,
                        "bin_end": 441300,
                        "count": 2
                      },
                      {
                        "bin_start": 441300,
                        "bin_end": 445400,
                        "count": 0
                      },
                      {
                        "bin_start": 445400,
                        "bin_end": 449500,
                        "count": 0
                      },
                      {
                        "bin_start": 449500,
                        "bin_end": 453600,
                        "count": 0
                      },
                      {
                        "bin_start": 453600,
                        "bin_end": 457700,
                        "count": 0
                      },
                      {
                        "bin_start": 457700,
                        "bin_end": 461800,
                        "count": 1
                      },
                      {
                        "bin_start": 461800,
                        "bin_end": 465900,
                        "count": 0
                      },
                      {
                        "bin_start": 465900,
                        "bin_end": 470000,
                        "count": 1
                      }
                    ]
                  }
                },
                {
                  "name": "MedianMortageRate",
                  "dtype": "float64",
                  "stats": {
                    "unique_count": 5,
                    "nan_count": 0,
                    "min": 5.29,
                    "max": 5.6,
                    "histogram": [
                      {
                        "bin_start": 5.29,
                        "bin_end": 5.321,
                        "count": 1
                      },
                      {
                        "bin_start": 5.321,
                        "bin_end": 5.352,
                        "count": 0
                      },
                      {
                        "bin_start": 5.352,
                        "bin_end": 5.383,
                        "count": 0
                      },
                      {
                        "bin_start": 5.383,
                        "bin_end": 5.414,
                        "count": 0
                      },
                      {
                        "bin_start": 5.414,
                        "bin_end": 5.445,
                        "count": 2
                      },
                      {
                        "bin_start": 5.445,
                        "bin_end": 5.476,
                        "count": 1
                      },
                      {
                        "bin_start": 5.476,
                        "bin_end": 5.507,
                        "count": 0
                      },
                      {
                        "bin_start": 5.507,
                        "bin_end": 5.537999999999999,
                        "count": 0
                      },
                      {
                        "bin_start": 5.537999999999999,
                        "bin_end": 5.569,
                        "count": 0
                      },
                      {
                        "bin_start": 5.569,
                        "bin_end": 5.6,
                        "count": 1
                      }
                    ]
                  }
                },
                {
                  "name": "UnemploymentRate",
                  "dtype": "float64",
                  "stats": {
                    "unique_count": 3,
                    "nan_count": 0,
                    "min": 6.2,
                    "max": 6.4,
                    "histogram": [
                      {
                        "bin_start": 6.2,
                        "bin_end": 6.220000000000001,
                        "count": 2
                      },
                      {
                        "bin_start": 6.220000000000001,
                        "bin_end": 6.24,
                        "count": 0
                      },
                      {
                        "bin_start": 6.24,
                        "bin_end": 6.26,
                        "count": 0
                      },
                      {
                        "bin_start": 6.26,
                        "bin_end": 6.28,
                        "count": 0
                      },
                      {
                        "bin_start": 6.28,
                        "bin_end": 6.300000000000001,
                        "count": 2
                      },
                      {
                        "bin_start": 6.300000000000001,
                        "bin_end": 6.32,
                        "count": 0
                      },
                      {
                        "bin_start": 6.32,
                        "bin_end": 6.34,
                        "count": 0
                      },
                      {
                        "bin_start": 6.34,
                        "bin_end": 6.36,
                        "count": 0
                      },
                      {
                        "bin_start": 6.36,
                        "bin_end": 6.380000000000001,
                        "count": 0
                      },
                      {
                        "bin_start": 6.380000000000001,
                        "bin_end": 6.4,
                        "count": 1
                      }
                    ]
                  }
                },
                {
                  "name": "_deepnote_index_column",
                  "dtype": "int64"
                }
              ],
              "rows_top": [
                {
                  "Date": "2008-02-29T00:00:00.000000",
                  "MedianSoldPrice_AllHomes.California": 470000,
                  "MedianMortageRate": 5.29,
                  "UnemploymentRate": 6.3,
                  "_deepnote_index_column": 0
                },
                {
                  "Date": "2008-03-31T00:00:00.000000",
                  "MedianSoldPrice_AllHomes.California": 441000,
                  "MedianMortageRate": 5.44,
                  "UnemploymentRate": 6.2,
                  "_deepnote_index_column": 1
                },
                {
                  "Date": "2008-04-30T00:00:00.000000",
                  "MedianSoldPrice_AllHomes.California": 460000,
                  "MedianMortageRate": 5.42,
                  "UnemploymentRate": 6.4,
                  "_deepnote_index_column": 2
                },
                {
                  "Date": "2008-05-31T00:00:00.000000",
                  "MedianSoldPrice_AllHomes.California": 429000,
                  "MedianMortageRate": 5.47,
                  "UnemploymentRate": 6.3,
                  "_deepnote_index_column": 3
                },
                {
                  "Date": "2008-06-30T00:00:00.000000",
                  "MedianSoldPrice_AllHomes.California": 437500,
                  "MedianMortageRate": 5.6,
                  "UnemploymentRate": 6.2,
                  "_deepnote_index_column": 4
                }
              ],
              "rows_bottom": null
            },
            "text/plain": "        Date  MedianSoldPrice_AllHomes.California  MedianMortageRate  \\\n0 2008-02-29                             470000.0               5.29   \n1 2008-03-31                             441000.0               5.44   \n2 2008-04-30                             460000.0               5.42   \n3 2008-05-31                             429000.0               5.47   \n4 2008-06-30                             437500.0               5.60   \n\n   UnemploymentRate  \n0               6.3  \n1               6.2  \n2               6.4  \n3               6.3  \n4               6.2  ",
            "text/html": "<div>\n<style scoped>\n    .dataframe tbody tr th:only-of-type {\n        vertical-align: middle;\n    }\n\n    .dataframe tbody tr th {\n        vertical-align: top;\n    }\n\n    .dataframe thead th {\n        text-align: right;\n    }\n</style>\n<table border=\"1\" class=\"dataframe\">\n  <thead>\n    <tr style=\"text-align: right;\">\n      <th></th>\n      <th>Date</th>\n      <th>MedianSoldPrice_AllHomes.California</th>\n      <th>MedianMortageRate</th>\n      <th>UnemploymentRate</th>\n    </tr>\n  </thead>\n  <tbody>\n    <tr>\n      <th>0</th>\n      <td>2008-02-29</td>\n      <td>470000.0</td>\n      <td>5.29</td>\n      <td>6.3</td>\n    </tr>\n    <tr>\n      <th>1</th>\n      <td>2008-03-31</td>\n      <td>441000.0</td>\n      <td>5.44</td>\n      <td>6.2</td>\n    </tr>\n    <tr>\n      <th>2</th>\n      <td>2008-04-30</td>\n      <td>460000.0</td>\n      <td>5.42</td>\n      <td>6.4</td>\n    </tr>\n    <tr>\n      <th>3</th>\n      <td>2008-05-31</td>\n      <td>429000.0</td>\n      <td>5.47</td>\n      <td>6.3</td>\n    </tr>\n    <tr>\n      <th>4</th>\n      <td>2008-06-30</td>\n      <td>437500.0</td>\n      <td>5.60</td>\n      <td>6.2</td>\n    </tr>\n  </tbody>\n</table>\n</div>"
          },
          "metadata": {}
        }
      ]
    },
    {
      "cell_type": "code",
      "metadata": {
        "cell_id": "00004-5218e930-3390-4c1a-8e20-6ce07978df89",
        "deepnote_to_be_reexecuted": false,
        "source_hash": "28d234bf",
        "execution_millis": 1,
        "execution_start": 1615257682552,
        "deepnote_cell_type": "code"
      },
      "source": "zillow = zillow.rename(columns={\"MedianSoldPrice_AllHomes.California\": \"MedianSoldPrice\"})",
      "execution_count": 5,
      "outputs": []
    },
    {
      "cell_type": "code",
      "metadata": {
        "cell_id": "00005-979653a3-2c24-44d6-924f-1598c3f7f93a",
        "deepnote_to_be_reexecuted": false,
        "source_hash": "d7d397a1",
        "execution_millis": 19,
        "execution_start": 1615257682553,
        "deepnote_cell_type": "code"
      },
      "source": "zillow.head()",
      "execution_count": 6,
      "outputs": [
        {
          "output_type": "execute_result",
          "execution_count": 6,
          "data": {
            "application/vnd.deepnote.dataframe.v2+json": {
              "row_count": 5,
              "column_count": 4,
              "columns": [
                {
                  "name": "Date",
                  "dtype": "datetime64[ns]",
                  "stats": {
                    "unique_count": 5,
                    "nan_count": 0,
                    "min": "2008-02-29T00:00:00.000000",
                    "max": "2008-06-30T00:00:00.000000",
                    "histogram": [
                      {
                        "bin_start": 1204243200000000000,
                        "bin_end": 1205297280000000000,
                        "count": 1
                      },
                      {
                        "bin_start": 1205297280000000000,
                        "bin_end": 1206351360000000000,
                        "count": 0
                      },
                      {
                        "bin_start": 1206351360000000000,
                        "bin_end": 1207405440000000000,
                        "count": 1
                      },
                      {
                        "bin_start": 1207405440000000000,
                        "bin_end": 1208459520000000000,
                        "count": 0
                      },
                      {
                        "bin_start": 1208459520000000000,
                        "bin_end": 1209513600000000000,
                        "count": 0
                      },
                      {
                        "bin_start": 1209513600000000000,
                        "bin_end": 1210567680000000000,
                        "count": 1
                      },
                      {
                        "bin_start": 1210567680000000000,
                        "bin_end": 1211621760000000000,
                        "count": 0
                      },
                      {
                        "bin_start": 1211621760000000000,
                        "bin_end": 1212675840000000000,
                        "count": 1
                      },
                      {
                        "bin_start": 1212675840000000000,
                        "bin_end": 1213729920000000000,
                        "count": 0
                      },
                      {
                        "bin_start": 1213729920000000000,
                        "bin_end": 1214784000000000000,
                        "count": 1
                      }
                    ]
                  }
                },
                {
                  "name": "MedianSoldPrice",
                  "dtype": "float64",
                  "stats": {
                    "unique_count": 5,
                    "nan_count": 0,
                    "min": 429000,
                    "max": 470000,
                    "histogram": [
                      {
                        "bin_start": 429000,
                        "bin_end": 433100,
                        "count": 1
                      },
                      {
                        "bin_start": 433100,
                        "bin_end": 437200,
                        "count": 0
                      },
                      {
                        "bin_start": 437200,
                        "bin_end": 441300,
                        "count": 2
                      },
                      {
                        "bin_start": 441300,
                        "bin_end": 445400,
                        "count": 0
                      },
                      {
                        "bin_start": 445400,
                        "bin_end": 449500,
                        "count": 0
                      },
                      {
                        "bin_start": 449500,
                        "bin_end": 453600,
                        "count": 0
                      },
                      {
                        "bin_start": 453600,
                        "bin_end": 457700,
                        "count": 0
                      },
                      {
                        "bin_start": 457700,
                        "bin_end": 461800,
                        "count": 1
                      },
                      {
                        "bin_start": 461800,
                        "bin_end": 465900,
                        "count": 0
                      },
                      {
                        "bin_start": 465900,
                        "bin_end": 470000,
                        "count": 1
                      }
                    ]
                  }
                },
                {
                  "name": "MedianMortageRate",
                  "dtype": "float64",
                  "stats": {
                    "unique_count": 5,
                    "nan_count": 0,
                    "min": 5.29,
                    "max": 5.6,
                    "histogram": [
                      {
                        "bin_start": 5.29,
                        "bin_end": 5.321,
                        "count": 1
                      },
                      {
                        "bin_start": 5.321,
                        "bin_end": 5.352,
                        "count": 0
                      },
                      {
                        "bin_start": 5.352,
                        "bin_end": 5.383,
                        "count": 0
                      },
                      {
                        "bin_start": 5.383,
                        "bin_end": 5.414,
                        "count": 0
                      },
                      {
                        "bin_start": 5.414,
                        "bin_end": 5.445,
                        "count": 2
                      },
                      {
                        "bin_start": 5.445,
                        "bin_end": 5.476,
                        "count": 1
                      },
                      {
                        "bin_start": 5.476,
                        "bin_end": 5.507,
                        "count": 0
                      },
                      {
                        "bin_start": 5.507,
                        "bin_end": 5.537999999999999,
                        "count": 0
                      },
                      {
                        "bin_start": 5.537999999999999,
                        "bin_end": 5.569,
                        "count": 0
                      },
                      {
                        "bin_start": 5.569,
                        "bin_end": 5.6,
                        "count": 1
                      }
                    ]
                  }
                },
                {
                  "name": "UnemploymentRate",
                  "dtype": "float64",
                  "stats": {
                    "unique_count": 3,
                    "nan_count": 0,
                    "min": 6.2,
                    "max": 6.4,
                    "histogram": [
                      {
                        "bin_start": 6.2,
                        "bin_end": 6.220000000000001,
                        "count": 2
                      },
                      {
                        "bin_start": 6.220000000000001,
                        "bin_end": 6.24,
                        "count": 0
                      },
                      {
                        "bin_start": 6.24,
                        "bin_end": 6.26,
                        "count": 0
                      },
                      {
                        "bin_start": 6.26,
                        "bin_end": 6.28,
                        "count": 0
                      },
                      {
                        "bin_start": 6.28,
                        "bin_end": 6.300000000000001,
                        "count": 2
                      },
                      {
                        "bin_start": 6.300000000000001,
                        "bin_end": 6.32,
                        "count": 0
                      },
                      {
                        "bin_start": 6.32,
                        "bin_end": 6.34,
                        "count": 0
                      },
                      {
                        "bin_start": 6.34,
                        "bin_end": 6.36,
                        "count": 0
                      },
                      {
                        "bin_start": 6.36,
                        "bin_end": 6.380000000000001,
                        "count": 0
                      },
                      {
                        "bin_start": 6.380000000000001,
                        "bin_end": 6.4,
                        "count": 1
                      }
                    ]
                  }
                },
                {
                  "name": "_deepnote_index_column",
                  "dtype": "int64"
                }
              ],
              "rows_top": [
                {
                  "Date": "2008-02-29T00:00:00.000000",
                  "MedianSoldPrice": 470000,
                  "MedianMortageRate": 5.29,
                  "UnemploymentRate": 6.3,
                  "_deepnote_index_column": 0
                },
                {
                  "Date": "2008-03-31T00:00:00.000000",
                  "MedianSoldPrice": 441000,
                  "MedianMortageRate": 5.44,
                  "UnemploymentRate": 6.2,
                  "_deepnote_index_column": 1
                },
                {
                  "Date": "2008-04-30T00:00:00.000000",
                  "MedianSoldPrice": 460000,
                  "MedianMortageRate": 5.42,
                  "UnemploymentRate": 6.4,
                  "_deepnote_index_column": 2
                },
                {
                  "Date": "2008-05-31T00:00:00.000000",
                  "MedianSoldPrice": 429000,
                  "MedianMortageRate": 5.47,
                  "UnemploymentRate": 6.3,
                  "_deepnote_index_column": 3
                },
                {
                  "Date": "2008-06-30T00:00:00.000000",
                  "MedianSoldPrice": 437500,
                  "MedianMortageRate": 5.6,
                  "UnemploymentRate": 6.2,
                  "_deepnote_index_column": 4
                }
              ],
              "rows_bottom": null
            },
            "text/plain": "        Date  MedianSoldPrice  MedianMortageRate  UnemploymentRate\n0 2008-02-29         470000.0               5.29               6.3\n1 2008-03-31         441000.0               5.44               6.2\n2 2008-04-30         460000.0               5.42               6.4\n3 2008-05-31         429000.0               5.47               6.3\n4 2008-06-30         437500.0               5.60               6.2",
            "text/html": "<div>\n<style scoped>\n    .dataframe tbody tr th:only-of-type {\n        vertical-align: middle;\n    }\n\n    .dataframe tbody tr th {\n        vertical-align: top;\n    }\n\n    .dataframe thead th {\n        text-align: right;\n    }\n</style>\n<table border=\"1\" class=\"dataframe\">\n  <thead>\n    <tr style=\"text-align: right;\">\n      <th></th>\n      <th>Date</th>\n      <th>MedianSoldPrice</th>\n      <th>MedianMortageRate</th>\n      <th>UnemploymentRate</th>\n    </tr>\n  </thead>\n  <tbody>\n    <tr>\n      <th>0</th>\n      <td>2008-02-29</td>\n      <td>470000.0</td>\n      <td>5.29</td>\n      <td>6.3</td>\n    </tr>\n    <tr>\n      <th>1</th>\n      <td>2008-03-31</td>\n      <td>441000.0</td>\n      <td>5.44</td>\n      <td>6.2</td>\n    </tr>\n    <tr>\n      <th>2</th>\n      <td>2008-04-30</td>\n      <td>460000.0</td>\n      <td>5.42</td>\n      <td>6.4</td>\n    </tr>\n    <tr>\n      <th>3</th>\n      <td>2008-05-31</td>\n      <td>429000.0</td>\n      <td>5.47</td>\n      <td>6.3</td>\n    </tr>\n    <tr>\n      <th>4</th>\n      <td>2008-06-30</td>\n      <td>437500.0</td>\n      <td>5.60</td>\n      <td>6.2</td>\n    </tr>\n  </tbody>\n</table>\n</div>"
          },
          "metadata": {}
        }
      ]
    },
    {
      "cell_type": "code",
      "metadata": {
        "cell_id": "00007-5701613f-6cca-4636-8bff-e366bf10e2fd",
        "deepnote_to_be_reexecuted": false,
        "source_hash": "c8e50b56",
        "execution_millis": 1,
        "execution_start": 1615257682560,
        "deepnote_cell_type": "code"
      },
      "source": "#Split dataset into 80/20\nend_date = '2014-05-31'\nend_date2 = '2015-12-31'\nhistory = zillow.loc[(zillow['Date'] <= end_date)]\nval = zillow.loc[(zillow['Date'] > end_date) & (zillow['Date'] <= end_date2)]",
      "execution_count": 7,
      "outputs": []
    },
    {
      "cell_type": "code",
      "metadata": {
        "cell_id": "00008-b5225509-4f51-4252-8075-f30351b0abe0",
        "deepnote_to_be_reexecuted": false,
        "source_hash": "e9e447c3",
        "execution_millis": 10828,
        "execution_start": 1615257682567,
        "deepnote_cell_type": "code"
      },
      "source": "X=np.array(history['MedianSoldPrice'])\nmape_1=evaluate_es_model_mape(X, Trend=\"additive\", Seasonal=\"additive\",m=12,damped=True)\nmape_2=evaluate_es_model_mape(X, Trend=\"multiplicative\", Seasonal=\"additive\",m=12,damped=True)\nmape_3=evaluate_es_model_mape(X, Trend=\"additive\", Seasonal=\"multiplicative\",m=12,damped=True)\nmape_4=evaluate_es_model_mape(X, Trend=\"multiplicative\", Seasonal=\"multiplicative\",m=12,damped=True)",
      "execution_count": 8,
      "outputs": []
    },
    {
      "cell_type": "code",
      "metadata": {
        "cell_id": "00009-f03c5859-be5d-4218-9c0d-7f3b8d093521",
        "deepnote_to_be_reexecuted": false,
        "source_hash": "2b19d441",
        "execution_millis": 540,
        "execution_start": 1615257693399,
        "deepnote_cell_type": "code"
      },
      "source": "mape_5=evaluate_es_model_mape(X, Trend=None, Seasonal=\"additive\",m=12,damped=False)\nmape_6=evaluate_es_model_mape(X, Trend=None, Seasonal=\"multiplicative\",m=12,damped=False)",
      "execution_count": 9,
      "outputs": []
    },
    {
      "cell_type": "code",
      "metadata": {
        "cell_id": "00010-3a070e97-d82b-44ac-8967-0152976e87c3",
        "deepnote_to_be_reexecuted": false,
        "source_hash": "594cb563",
        "execution_millis": 4,
        "execution_start": 1615257693983,
        "deepnote_cell_type": "code"
      },
      "source": "print(mape_1)\nprint(mape_2)\nprint(mape_3)\nprint(mape_4)\nprint(mape_5)\nprint(mape_6)",
      "execution_count": 10,
      "outputs": [
        {
          "name": "stdout",
          "text": "0.03786996933171643\n0.031688567227485746\n0.03677683551016181\n4.984620329298538e+44\n0.034217492594931564\n0.041926780374377005\n",
          "output_type": "stream"
        }
      ]
    },
    {
      "cell_type": "code",
      "metadata": {
        "tags": [],
        "cell_id": "00010-0b291f41-6541-4d63-8239-d98fb9fe0703",
        "deepnote_to_be_reexecuted": false,
        "source_hash": "b71e7f11",
        "execution_millis": 184,
        "execution_start": 1615257693984,
        "deepnote_cell_type": "code"
      },
      "source": "data = {'add+add': mape_1, 'mul+add': mape_2, 'add+mul': mape_3, 'none+add':mape_5, 'none+mul':mape_6}\nmodels = list(data.keys())\nrmse = list(data.values())\nplt.figure(figsize=(10, 7))\nplt.plot(models, rmse)",
      "execution_count": 11,
      "outputs": [
        {
          "output_type": "execute_result",
          "execution_count": 11,
          "data": {
            "text/plain": "[<matplotlib.lines.Line2D at 0x7fa2d72cbe50>]"
          },
          "metadata": {}
        },
        {
          "data": {
            "text/plain": "<Figure size 720x504 with 1 Axes>",
            "image/png": "[encoded data removed]"
          },
          "metadata": {
            "needs_background": "light"
          },
          "output_type": "display_data"
        }
      ]
    },
    {
      "cell_type": "code",
      "metadata": {
        "cell_id": "00011-1469ffa2-3d71-4842-b8ad-ae22f918dfba",
        "deepnote_to_be_reexecuted": false,
        "source_hash": "b1705cb6",
        "execution_millis": 249,
        "execution_start": 1615257694168,
        "deepnote_cell_type": "code"
      },
      "source": "model_ets=ExponentialSmoothing(history[\"MedianSoldPrice\"], trend=\"multiplicative\", seasonal=\"additive\", damped=True, seasonal_periods=12)\nresult_ets=model_ets.fit()\npred_ets=result_ets.forecast(len(val))\npred_ets.index=val.index",
      "execution_count": 12,
      "outputs": []
    },
    {
      "cell_type": "code",
      "metadata": {
        "cell_id": "00012-024dee27-3b99-4675-9e94-950ac9a03d82",
        "deepnote_to_be_reexecuted": false,
        "source_hash": "e395c142",
        "execution_millis": 257,
        "execution_start": 1615257694432,
        "deepnote_cell_type": "code"
      },
      "source": "plt.figure(figsize=(30, 10))\nplt.plot(val.MedianSoldPrice, label='actual')\nplt.plot(pred_ets, label='ETS forecast')\nplt.legend(loc='upper left', fontsize=20)\nplt.show()\n",
      "execution_count": 13,
      "outputs": [
        {
          "data": {
            "text/plain": "<Figure size 2160x720 with 1 Axes>",
            "image/png": "[encoded data removed]"
          },
          "metadata": {
            "needs_background": "light"
          },
          "output_type": "display_data"
        }
      ]
    },
    {
      "cell_type": "code",
      "metadata": {
        "cell_id": "00013-849e7a33-54d7-44d1-82ad-085c8377e527",
        "deepnote_to_be_reexecuted": false,
        "source_hash": "cdf6088",
        "execution_millis": 6,
        "execution_start": 1615257752287,
        "deepnote_cell_type": "code"
      },
      "source": "mape_val=(np.abs(np.array(val.MedianSoldPrice)-np.array(pred_ets))/np.array(val.MedianSoldPrice)).mean()\nprint(f\"MAPE of ETS: {mape_val}\")",
      "execution_count": 15,
      "outputs": [
        {
          "name": "stdout",
          "text": "MAPE of ETS: 0.02212690752728262\n",
          "output_type": "stream"
        }
      ]
    },
    {
      "cell_type": "code",
      "metadata": {
        "cell_id": "00014-01fa59a7-b4be-42a3-b58c-ad1a27abab76",
        "deepnote_to_be_reexecuted": false,
        "source_hash": "f43160a3",
        "execution_millis": 7,
        "execution_start": 1615257753104,
        "deepnote_cell_type": "code"
      },
      "source": "rmse1 = rmse_cal(np.array(val.MedianSoldPrice), np.array(pred_ets))\nprint(f\"RMSE of ETS: {rmse1}\")\n",
      "execution_count": 16,
      "outputs": [
        {
          "name": "stdout",
          "text": "RMSE of ETS: 11795.340106761016\n",
          "output_type": "stream"
        }
      ]
    },
    {
      "cell_type": "code",
      "metadata": {
        "tags": [],
        "cell_id": "00016-8d863877-8a5d-4185-aec3-871f3c047d24",
        "deepnote_to_be_reexecuted": false,
        "source_hash": "837a1eba",
        "execution_millis": 8,
        "execution_start": 1615257753150,
        "deepnote_cell_type": "code"
      },
      "source": "#predicted values\npred_ets",
      "execution_count": 17,
      "outputs": [
        {
          "output_type": "execute_result",
          "execution_count": 17,
          "data": {
            "text/plain": "76    463311.741161\n77    468814.350492\n78    466660.720545\n79    473330.352103\n80    464298.589138\n81    463785.099244\n82    463050.962758\n83    440786.966522\n84    434186.706452\n85    450238.078596\n86    461377.504982\n87    474813.136951\n88    481133.216863\n89    486519.134403\n90    484248.964741\n91    490802.221816\n92    481654.262472\n93    481024.766893\n94    480174.827722\ndtype: float64"
          },
          "metadata": {}
        }
      ]
    },
    {
      "cell_type": "markdown",
      "source": "",
      "metadata": {
        "tags": [],
        "cell_id": "00015-0acccc7f-b956-4fce-8154-cacd379ef5aa",
        "deepnote_cell_type": "markdown"
      }
    },
    {
      "cell_type": "markdown",
      "source": "**Multivariate**",
      "metadata": {
        "tags": [],
        "cell_id": "00016-9014ee50-7ca3-4298-ac20-686b2fe1cd7a",
        "deepnote_cell_type": "markdown"
      }
    },
    {
      "cell_type": "code",
      "metadata": {
        "cell_id": "00016-92e3cb1c-4e32-4b0b-ae9d-e66723a86f4b",
        "deepnote_to_be_reexecuted": false,
        "source_hash": "d54af0b0",
        "execution_millis": 571,
        "execution_start": 1615257753151,
        "deepnote_cell_type": "code"
      },
      "source": "#sarimax \nzillow=pd.read_csv('zillow-carlifornia.csv',header=0, index_col=\"Date\", parse_dates=True, squeeze=True)\nzillow = zillow.rename(columns={\"MedianSoldPrice_AllHomes.California\": \"MedianSoldPrice\"})\ndt=zillow[['MedianMortageRate','UnemploymentRate','MedianSoldPrice']]\n\n#train and val\nperiod=12\ntrain=dt[dt.index<='2014-05-31']\nval=dt[dt.index >'2014-05-31']\nval=val[val.index<='2015-12-31']\n\n#scale data\ndt=dt.dropna()\nfrom sklearn.preprocessing import MinMaxScaler\nsc = MinMaxScaler(feature_range=(0, 1))\n\ntrain_sc = sc.fit_transform(train)\nval_sc = sc.transform(val)",
      "execution_count": 18,
      "outputs": []
    },
    {
      "cell_type": "code",
      "metadata": {
        "cell_id": "00017-672a4cd2-a0c4-4b4f-bbc8-18f719b24139",
        "deepnote_to_be_reexecuted": false,
        "source_hash": "7236700b",
        "execution_millis": 90914,
        "execution_start": 1615257753769,
        "deepnote_cell_type": "code"
      },
      "source": "#auto sarimax search with m=12\nfrom pmdarima.arima import auto_arima\nmodel=auto_arima(train_sc[:,-1], \n                 exogenous= train_sc[:,:-1], \n                 start_p=0, start_q=0, \n                 max_p=4, max_q=4, \n                 max_d=2,\n                 trace=True,seasonal=True,D=1,m=12, max_P=3, max_Q=3, \n                 error_action='ignore', \n                 suppress_warnings=True,information_criterion='oob', n_jobs = -1)",
      "execution_count": 19,
      "outputs": [
        {
          "name": "stdout",
          "text": "Performing stepwise search to minimize aic\n ARIMA(0,1,0)(1,1,1)[12]             : AIC=-123.750, Time=2.49 sec\n ARIMA(0,1,0)(0,1,0)[12]             : AIC=-127.608, Time=0.14 sec\n ARIMA(1,1,0)(1,1,0)[12]             : AIC=-127.051, Time=1.98 sec\n ARIMA(0,1,1)(0,1,1)[12]             : AIC=-125.762, Time=1.59 sec\n ARIMA(0,1,0)(1,1,0)[12]             : AIC=-125.837, Time=1.11 sec\n ARIMA(0,1,0)(0,1,1)[12]             : AIC=-125.889, Time=2.30 sec\n ARIMA(1,1,0)(0,1,0)[12]             : AIC=-127.688, Time=0.18 sec\n ARIMA(1,1,0)(0,1,1)[12]             : AIC=-127.378, Time=1.40 sec\n ARIMA(1,1,0)(1,1,1)[12]             : AIC=-125.504, Time=3.31 sec\n ARIMA(2,1,0)(0,1,0)[12]             : AIC=-129.815, Time=0.49 sec\n ARIMA(2,1,0)(1,1,0)[12]             : AIC=-130.803, Time=2.20 sec\n ARIMA(2,1,0)(2,1,0)[12]             : AIC=-129.060, Time=8.51 sec\n ARIMA(2,1,0)(1,1,1)[12]             : AIC=-129.439, Time=3.88 sec\n ARIMA(2,1,0)(0,1,1)[12]             : AIC=-131.428, Time=2.21 sec\n ARIMA(2,1,0)(0,1,2)[12]             : AIC=-129.796, Time=3.69 sec\n ARIMA(2,1,0)(1,1,2)[12]             : AIC=-127.802, Time=6.70 sec\n ARIMA(3,1,0)(0,1,1)[12]             : AIC=-139.444, Time=4.61 sec\n ARIMA(3,1,0)(0,1,0)[12]             : AIC=-138.309, Time=1.17 sec\n ARIMA(3,1,0)(1,1,1)[12]             : AIC=-136.237, Time=3.11 sec\n ARIMA(3,1,0)(0,1,2)[12]             : AIC=-138.044, Time=6.30 sec\n ARIMA(3,1,0)(1,1,0)[12]             : AIC=-138.723, Time=4.19 sec\n ARIMA(3,1,0)(1,1,2)[12]             : AIC=-136.417, Time=7.71 sec\n ARIMA(4,1,0)(0,1,1)[12]             : AIC=-141.642, Time=3.99 sec\n ARIMA(4,1,0)(0,1,0)[12]             : AIC=-142.425, Time=2.02 sec\n ARIMA(4,1,0)(1,1,0)[12]             : AIC=-141.306, Time=4.71 sec\n ARIMA(4,1,0)(1,1,1)[12]             : AIC=-139.237, Time=5.22 sec\n ARIMA(4,1,1)(0,1,0)[12]             : AIC=-140.565, Time=2.49 sec\n ARIMA(3,1,1)(0,1,0)[12]             : AIC=-140.425, Time=1.03 sec\n ARIMA(4,1,0)(0,1,0)[12] intercept   : AIC=-140.796, Time=1.88 sec\n\nBest model:  ARIMA(4,1,0)(0,1,0)[12]          \nTotal fit time: 90.708 seconds\n",
          "output_type": "stream"
        }
      ]
    },
    {
      "cell_type": "code",
      "metadata": {
        "cell_id": "00018-92ffc342-ab95-496a-9b6d-577c10c12824",
        "deepnote_to_be_reexecuted": false,
        "source_hash": "23136f07",
        "execution_millis": 1,
        "execution_start": 1615257884114,
        "deepnote_cell_type": "code"
      },
      "source": "y_pred = model.predict(n_periods=len(val_sc),X=val_sc[:,:-1]).reshape(-1,1)\ny_pred_ = np.repeat(y_pred,3,axis=1) \ny_pred_inv = sc.inverse_transform(y_pred_)[:,-1] ",
      "execution_count": 20,
      "outputs": []
    },
    {
      "cell_type": "code",
      "metadata": {
        "cell_id": "00019-fe04707e-7702-43b5-890d-1e901bea5fc5",
        "deepnote_to_be_reexecuted": false,
        "source_hash": "10e2383f",
        "execution_millis": 285,
        "execution_start": 1615257884637,
        "deepnote_cell_type": "code"
      },
      "source": "y_pred_series = pd.Series(y_pred_inv,index=val.index)\nplt.figure(figsize=(30, 10))\n\nplt.plot(val.MedianSoldPrice, label='actual')\nplt.plot(y_pred_series, label='SARIMAX forecast')\nplt.legend(loc='upper left', fontsize=20)\nplt.title('Forecast vs Actual', fontsize = 25, y = 0.9)\nplt.show()",
      "execution_count": 21,
      "outputs": [
        {
          "data": {
            "text/plain": "<Figure size 2160x720 with 1 Axes>",
            "image/png": "[encoded data removed]"
          },
          "metadata": {
            "needs_background": "light"
          },
          "output_type": "display_data"
        }
      ]
    },
    {
      "cell_type": "code",
      "metadata": {
        "cell_id": "00020-35f56186-6c72-4294-b574-a74418528381",
        "deepnote_to_be_reexecuted": false,
        "source_hash": "20750cc",
        "execution_millis": 5,
        "execution_start": 1615257893062,
        "deepnote_cell_type": "code"
      },
      "source": "mape_val2=(np.abs(np.array(val.MedianSoldPrice)-np.array(y_pred_inv))/np.array(val.MedianSoldPrice)).mean()\nprint(f\"MAPE of Multivariate: {mape_val2}\")",
      "execution_count": 25,
      "outputs": [
        {
          "name": "stdout",
          "text": "MAPE of Multivariate: 0.11554518934299356\n",
          "output_type": "stream"
        }
      ]
    },
    {
      "cell_type": "code",
      "metadata": {
        "cell_id": "00021-ec2d0ff5-4f05-450a-899c-ad6845402777",
        "deepnote_to_be_reexecuted": false,
        "source_hash": "4fc5bba2",
        "execution_millis": 4,
        "execution_start": 1615257893608,
        "deepnote_cell_type": "code"
      },
      "source": "rmse2 = rmse_cal(np.array(val.MedianSoldPrice), np.array(y_pred_inv))\nprint(f\"RMSE of Multivariate: {rmse2}\")\n",
      "execution_count": 26,
      "outputs": [
        {
          "name": "stdout",
          "text": "RMSE of Multivariate: 64152.90553541888\n",
          "output_type": "stream"
        }
      ]
    },
    {
      "cell_type": "code",
      "metadata": {
        "cell_id": "00022-c3f933ba-a2d7-452b-8805-aafa4ec489f2",
        "deepnote_to_be_reexecuted": false,
        "source_hash": "394b41a3",
        "execution_millis": 10,
        "execution_start": 1615257893609,
        "deepnote_cell_type": "code"
      },
      "source": "#predicted values\ny_pred_inv",
      "execution_count": 27,
      "outputs": [
        {
          "output_type": "execute_result",
          "execution_count": 27,
          "data": {
            "text/plain": "array([453527.99213716, 455337.60639772, 435969.63021578, 441984.71549792,\n       424118.72504395, 420067.87573169, 423134.23276816, 410600.24575595,\n       393897.52325952, 406480.29393915, 414391.04658434, 411584.73408875,\n       411848.22740292, 412495.12153244, 385604.7249713 , 387209.93889062,\n       376603.84285595, 372306.8209938 , 370110.45440059])"
          },
          "metadata": {}
        }
      ]
    },
    {
      "cell_type": "code",
      "metadata": {
        "tags": [],
        "cell_id": "00025-23db8868-1fd9-4a17-800a-303edf571c88",
        "deepnote_to_be_reexecuted": false,
        "source_hash": "b623e53d",
        "execution_millis": 1,
        "execution_start": 1615257885456,
        "deepnote_cell_type": "code"
      },
      "source": "",
      "execution_count": 24,
      "outputs": []
    },
    {
      "cell_type": "markdown",
      "source": "<a style='text-decoration:none;line-height:16px;display:flex;color:#5B5B62;padding:10px;justify-content:end;' href='https://deepnote.com?utm_source=created-in-deepnote-cell&projectId=e6c37d8b-bf55-4e4d-a354-b401be14f3dc' target=\"_blank\">\n<img style='display:inline;max-height:16px;margin:0px;margin-right:7.5px;' src='data:image/svg+xml;base64,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' > </img>\nCreated in <span style='font-weight:600;margin-left:4px;'>Deepnote</span></a>",
      "metadata": {
        "tags": [],
        "created_in_deepnote_cell": true,
        "deepnote_cell_type": "markdown"
      }
    }
  ],
  "nbformat": 4,
  "nbformat_minor": 5,
  "metadata": {
    "kernelspec": {
      "display_name": "Python 3",
      "language": "python",
      "name": "python3"
    },
    "language_info": {
      "codemirror_mode": {
        "name": "ipython",
        "version": 3
      },
      "file_extension": ".py",
      "mimetype": "text/x-python",
      "name": "python",
      "nbconvert_exporter": "python",
      "pygments_lexer": "ipython3",
      "version": "3.8.5"
    },
    "deepnote_notebook_id": "9ddcf019-02a5-4451-a025-79afd8f3c042",
    "deepnote": {},
    "deepnote_execution_queue": []
  }
}